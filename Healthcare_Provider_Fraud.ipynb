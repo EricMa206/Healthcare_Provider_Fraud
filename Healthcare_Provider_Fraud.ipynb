{
 "cells": [
  {
   "cell_type": "markdown",
   "metadata": {},
   "source": [
    "## HEALTHCARE PROVIDER FRAUD DETECTION ANALYSIS\n",
    "### HEALTHCARE PROVIDER FRAUD DETECTION ANALYSIS\n",
    "\n",
    "Description  \n",
    "\n",
    "https://www.kaggle.com/rohitrox/healthcare-provider-fraud-detection-analysis  \n",
    "\n",
    "Project Objectives Provider Fraud is one of the biggest problems facing Medicare. According to the government, the total Medicare spending increased exponentially due to frauds in Medicare claims. Healthcare fraud is an organized crime which involves peers of providers, physicians, beneficiaries acting together to make fraud claims.\n",
    "\n",
    "Rigorous analysis of Medicare data has yielded many physicians who indulge in fraud. They adopt ways in which an ambiguous diagnosis code is used to adopt costliest procedures and drugs. Insurance companies are the most vulnerable institutions impacted due to these bad practices. Due to this reason, insurance companies increased their insurance premiums and as result healthcare is becoming costly matter day by day.\n",
    "\n",
    "Healthcare fraud and abuse take many forms. Some of the most common types of frauds by providers are:\n",
    "\n",
    "a) Billing for services that were not provided.\n",
    "\n",
    "b) Duplicate submission of a claim for the same service.\n",
    "\n",
    "c) Misrepresenting the service provided.\n",
    "\n",
    "d) Charging for a more complex or expensive service than was actually provided.\n",
    "\n",
    "e) Billing for a covered service when the service actually provided was not covered.\n",
    "\n",
    "Problem Statement The goal of this project is to \" predict the potentially fraudulent providers \" based on the claims filed by them.along with this, we will also discover important variables helpful in detecting the behaviour of potentially fraud providers. further, we will study fraudulent patterns in the provider's claims to understand the future behaviour of providers.\n",
    "\n",
    "Introduction to the Dataset For the purpose of this project, we are considering Inpatient claims, Outpatient claims and Beneficiary details of each provider. Lets s see their details :\n",
    "\n",
    "A) Inpatient Data\n",
    "\n",
    "This data provides insights about the claims filed for those patients who are admitted in the hospitals. It also provides additional details like their admission and discharge dates and admit d diagnosis code.\n",
    "\n",
    "B) Outpatient Data\n",
    "\n",
    "This data provides details about the claims filed for those patients who visit hospitals and not admitted in it.\n",
    "\n",
    "C) Beneficiary Details Data\n",
    "\n",
    "This data contains beneficiary KYC details like health conditions,regioregion they belong to etc."
   ]
  },
  {
   "cell_type": "code",
   "execution_count": 1,
   "metadata": {},
   "outputs": [],
   "source": [
    "# import libraries\n",
    "\n",
    "import numpy as np\n",
    "import pandas as pd\n",
    "import matplotlib.pyplot as plt\n",
    "%matplotlib inline\n",
    "import sklearn\n",
    "import seaborn as sns\n",
    "pd.set_option('display.max_columns', 50)\n",
    "import warnings\n",
    "warnings.filterwarnings('ignore')\n",
    "plt.rcParams[\"figure.figsize\"] = [8,10]\n",
    "plt.style.use(\"fivethirtyeight\")\n",
    "from sklearn.model_selection import train_test_split\n",
    "from sklearn.tree import DecisionTreeClassifier\n",
    "from sklearn import metrics\n",
    "from sklearn.metrics import accuracy_score, f1_score, make_scorer\n",
    "from sklearn.linear_model import LogisticRegression\n",
    "from sklearn.preprocessing import StandardScaler\n",
    "from sklearn.preprocessing import MinMaxScaler\n",
    "from sklearn.neighbors import KNeighborsClassifier\n",
    "from sklearn.linear_model import LogisticRegressionCV"
   ]
  },
  {
   "cell_type": "code",
   "execution_count": null,
   "metadata": {},
   "outputs": [],
   "source": []
  }
 ],
 "metadata": {
  "kernelspec": {
   "display_name": "Python 3",
   "language": "python",
   "name": "python3"
  },
  "language_info": {
   "codemirror_mode": {
    "name": "ipython",
    "version": 3
   },
   "file_extension": ".py",
   "mimetype": "text/x-python",
   "name": "python",
   "nbconvert_exporter": "python",
   "pygments_lexer": "ipython3",
   "version": "3.6.6"
  }
 },
 "nbformat": 4,
 "nbformat_minor": 2
}
